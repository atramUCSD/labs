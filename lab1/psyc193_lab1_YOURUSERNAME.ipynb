{
 "cells": [
  {
   "cell_type": "markdown",
   "metadata": {},
   "source": [
    "# PSYC 193: Perception and Computation \n",
    "## Lab 1: Working with image data and analyzing typicality ratings"
   ]
  },
  {
   "cell_type": "markdown",
   "metadata": {},
   "source": [
    "In this lab, we will be working with an image dataset used in a recent computer vision paper by [Sangkloy et al.](https://dl.acm.org/doi/abs/10.1145/2897824.2925954). \n",
    "\n",
    "**Learning objectives**\n",
    "* Learn the basics of working with image data\n",
    "* Analyze human typicality rating data \n",
    "\n",
    "**Submission instructions**\n",
    "1. Please rename the notebook by replacing `YOURUSERNAME` in the filename with your actual UCSD AD username. \n",
    "2. Before submitting your assignment, sure that your notebook can run from \"top to bottom,\" executing the code in every code cell without returning fatal errors. An easy way to verify this is to click \"Kernel\" above in the tool bar, and try selecting \"Restart & Run All.\"\n",
    "3. Once you have verified that your notebook can run \"top to bottom\" without issues, click \"File\" in the toolbar above, then \"Download as,\" then \"PDF via LaTeX\" to download a PDF version of your notebook. \n",
    "4. Upload this PDF version of your notebook to Canvas before 5pm the next class period. "
   ]
  },
  {
   "cell_type": "markdown",
   "metadata": {},
   "source": [
    "#### Getting started with jupyter notebooks\n",
    "If you are relatively new to writing Python code in jupyter notebooks, it's recommended that you check out the User Interface tour. Click Help in the toolbar. "
   ]
  },
  {
   "cell_type": "markdown",
   "metadata": {},
   "source": [
    "### setup"
   ]
  },
  {
   "cell_type": "code",
   "execution_count": null,
   "metadata": {},
   "outputs": [],
   "source": [
    "## load generally useful python modules\n",
    "import os\n",
    "import numpy as np\n",
    "import pandas as pd\n",
    "from PIL import Image\n",
    "import requests\n",
    "from io import BytesIO\n",
    "import seaborn as sns\n",
    "\n",
    "import matplotlib.pyplot as plt\n",
    "%matplotlib inline"
   ]
  },
  {
   "cell_type": "markdown",
   "metadata": {},
   "source": [
    "### load in datasets"
   ]
  },
  {
   "cell_type": "code",
   "execution_count": null,
   "metadata": {},
   "outputs": [],
   "source": [
    "## import image metadata (from Sangkloy et al. (2016))\n",
    "from photodraw32_metadata import metadata\n",
    "M = pd.DataFrame(metadata)"
   ]
  },
  {
   "cell_type": "code",
   "execution_count": null,
   "metadata": {},
   "outputs": [],
   "source": [
    "## inspect what image metadata looks like using the pandas `head` function:\n",
    "## see: https://pandas.pydata.org/pandas-docs/stable/reference/api/pandas.DataFrame.head.html\n",
    "\n",
    "### INSERT YOUR CODE HERE ####"
   ]
  },
  {
   "cell_type": "markdown",
   "metadata": {},
   "source": [
    "**What do you think each row of this dataframe represents?**\n",
    "\n",
    "*INSERT YOUR OWN RESPONSE HERE*"
   ]
  },
  {
   "cell_type": "markdown",
   "metadata": {},
   "source": [
    "### explore dataset"
   ]
  },
  {
   "cell_type": "markdown",
   "metadata": {},
   "source": [
    "**How many different images are there in this dataframe?**\n",
    "\n",
    "*INSERT YOUR OWN RESPONSE HERE*\n",
    "\n",
    "hint: try using the `shape` function"
   ]
  },
  {
   "cell_type": "code",
   "execution_count": null,
   "metadata": {},
   "outputs": [],
   "source": [
    "### INSERT YOUR CODE HERE ####\n"
   ]
  },
  {
   "cell_type": "markdown",
   "metadata": {},
   "source": [
    "**How many different object categories are represented in the image dataset? (i.e., M dataframe)**\n",
    "\n",
    "*INSERT YOUR OWN RESPONSE HERE*\n",
    "\n",
    "hint: try using the `nunique` function"
   ]
  },
  {
   "cell_type": "code",
   "execution_count": null,
   "metadata": {},
   "outputs": [],
   "source": [
    "### INSERT YOUR CODE HERE ####\n"
   ]
  },
  {
   "cell_type": "markdown",
   "metadata": {},
   "source": [
    "**How many different images per category are in this dataset?**\n",
    "\n",
    "*INSERT YOUR OWN RESPONSE HERE*\n",
    "\n",
    "hint: try using `groupby` and `count` or `value_counts`"
   ]
  },
  {
   "cell_type": "code",
   "execution_count": null,
   "metadata": {},
   "outputs": [],
   "source": [
    "### INSERT YOUR CODE HERE ####\n"
   ]
  },
  {
   "cell_type": "markdown",
   "metadata": {},
   "source": [
    "### load and display a single image"
   ]
  },
  {
   "cell_type": "markdown",
   "metadata": {},
   "source": [
    "**Here is sample code to display one of the \"airplane\" images in the dataset**"
   ]
  },
  {
   "cell_type": "code",
   "execution_count": null,
   "metadata": {},
   "outputs": [],
   "source": [
    "url = M['s3_url'].values[0] \n",
    "print('Example Image URL: {}'.format(url))\n",
    "response = requests.get(url)\n",
    "img = Image.open(BytesIO(response.content))\n",
    "img"
   ]
  },
  {
   "cell_type": "markdown",
   "metadata": {},
   "source": [
    "**Now display any one of the \"lion\" images in the dataset**"
   ]
  },
  {
   "cell_type": "code",
   "execution_count": null,
   "metadata": {},
   "outputs": [],
   "source": [
    "## INSERT YOUR CODE HERE ##"
   ]
  },
  {
   "cell_type": "code",
   "execution_count": null,
   "metadata": {},
   "outputs": [],
   "source": []
  },
  {
   "cell_type": "markdown",
   "metadata": {},
   "source": [
    "### Practice with image processing"
   ]
  },
  {
   "cell_type": "markdown",
   "metadata": {},
   "source": [
    "**What are the dimensions of the example airplane image from above (i.e., width x height x num_channels)?**\n",
    "\n",
    "hint: Try looking up how to get sizes of images using the Python Imaging Library (PIL)"
   ]
  },
  {
   "cell_type": "code",
   "execution_count": null,
   "metadata": {},
   "outputs": [],
   "source": [
    "## INSERT YOUR CODE HERE ##"
   ]
  },
  {
   "cell_type": "code",
   "execution_count": null,
   "metadata": {},
   "outputs": [],
   "source": []
  },
  {
   "cell_type": "markdown",
   "metadata": {},
   "source": [
    "**Convert image data to a NumPy array. What are its dimensions?**\n",
    "\n",
    "*INSERT YOUR OWN RESPONSE HERE*"
   ]
  },
  {
   "cell_type": "code",
   "execution_count": null,
   "metadata": {},
   "outputs": [],
   "source": [
    "## INSERT YOUR CODE HERE ##"
   ]
  },
  {
   "cell_type": "code",
   "execution_count": null,
   "metadata": {},
   "outputs": [],
   "source": []
  },
  {
   "cell_type": "markdown",
   "metadata": {},
   "source": [
    "**Inspect the values in the array. What do these values represent? What is the largest value, and what is the smallest value in the image array?**\n",
    "\n",
    "Is the range of values what you expected? Check out [this page on 8-bit color graphics](https://en.wikipedia.org/wiki/8-bit_color) to learn more about this way of storing information about images. "
   ]
  },
  {
   "cell_type": "code",
   "execution_count": null,
   "metadata": {},
   "outputs": [],
   "source": [
    "## INSERT YOUR CODE HERE ##"
   ]
  },
  {
   "cell_type": "code",
   "execution_count": null,
   "metadata": {},
   "outputs": [],
   "source": []
  },
  {
   "cell_type": "markdown",
   "metadata": {},
   "source": [
    "**Crop the middle 100x100 pixels from the image and display it.**\n",
    "\n",
    "hint: Try using the `crop` function from PIL. Use the information you extracted earlier about the width and height of the image to determine where the middle 100x100 pixels are."
   ]
  },
  {
   "cell_type": "code",
   "execution_count": null,
   "metadata": {},
   "outputs": [],
   "source": [
    "## INSERT YOUR CODE HERE ##"
   ]
  },
  {
   "cell_type": "code",
   "execution_count": null,
   "metadata": {},
   "outputs": [],
   "source": []
  },
  {
   "cell_type": "markdown",
   "metadata": {},
   "source": [
    "### analyze distribution of ratings "
   ]
  },
  {
   "cell_type": "code",
   "execution_count": null,
   "metadata": {},
   "outputs": [],
   "source": [
    "## import image typicality ratings (from an unpublished dataset)\n",
    "T = pd.read_csv('photodraw32_ratings.csv')"
   ]
  },
  {
   "cell_type": "code",
   "execution_count": null,
   "metadata": {},
   "outputs": [],
   "source": [
    "## inspect the dataframe using the `head` function\n",
    "## INSERT YOUR CODE HERE ##"
   ]
  },
  {
   "cell_type": "markdown",
   "metadata": {},
   "source": [
    "#### Here is what the columns mean\n",
    "* prolificID: anonymized participant identifier\n",
    "* img_id: URL of image shown to participant\n",
    "* category: category this image belongs to\n",
    "* ratings: rating given by participants on 5-point scale from \"Not typical at all\" to \"Extremely\" typical\n",
    "* enumerated_ratings: ratings converted to numeric scale ranging between -2 and +2"
   ]
  },
  {
   "cell_type": "markdown",
   "metadata": {},
   "source": [
    "**How many ratings do we have per image?**"
   ]
  },
  {
   "cell_type": "code",
   "execution_count": null,
   "metadata": {},
   "outputs": [],
   "source": [
    "## INSERT YOUR CODE HERE ##"
   ]
  },
  {
   "cell_type": "code",
   "execution_count": null,
   "metadata": {},
   "outputs": [],
   "source": []
  },
  {
   "cell_type": "markdown",
   "metadata": {},
   "source": [
    "**What does the distribution of ratings look like overall, across all images and categories?**\n",
    "\n",
    "hint: for a basic histogram, try using matplotlib `plt.hist()`. For another option, try using plotting functions from [seaborn](https://seaborn.pydata.org/tutorial/distributions.html)."
   ]
  },
  {
   "cell_type": "code",
   "execution_count": null,
   "metadata": {},
   "outputs": [],
   "source": [
    "## INSERT YOUR CODE HERE ##"
   ]
  },
  {
   "cell_type": "code",
   "execution_count": null,
   "metadata": {},
   "outputs": [],
   "source": []
  },
  {
   "cell_type": "markdown",
   "metadata": {},
   "source": [
    "**What does the distribution of average ratings look like for images within each category?**\n",
    "\n",
    "hint: try using `FacetGrid` from [seaborn](https://seaborn.pydata.org/generated/seaborn.FacetGrid.html)."
   ]
  },
  {
   "cell_type": "code",
   "execution_count": null,
   "metadata": {},
   "outputs": [],
   "source": [
    "## INSERT YOUR CODE HERE ##"
   ]
  },
  {
   "cell_type": "code",
   "execution_count": null,
   "metadata": {},
   "outputs": [],
   "source": []
  },
  {
   "cell_type": "markdown",
   "metadata": {},
   "source": [
    "**How well do participants agree with one another on what rating to give to an image? Or, relatedly, how variable are the ratings given by different participants to the same image?**\n",
    "\n",
    "hint: There isn't a single way to get at this question. Try to think about some metrics that might be useful, taking into account how often participants agree, and/or how large differences in ratings given between different participants are. "
   ]
  },
  {
   "cell_type": "code",
   "execution_count": null,
   "metadata": {},
   "outputs": [],
   "source": [
    "## INSERT YOUR CODE HERE ##"
   ]
  },
  {
   "cell_type": "code",
   "execution_count": null,
   "metadata": {},
   "outputs": [],
   "source": []
  },
  {
   "cell_type": "markdown",
   "metadata": {},
   "source": [
    "**How much variation is there in typicality ratings between images within each category?**\n",
    "\n",
    "hint: What are some metrics you know about to quantify variation?"
   ]
  },
  {
   "cell_type": "code",
   "execution_count": null,
   "metadata": {},
   "outputs": [],
   "source": [
    "## INSERT YOUR CODE HERE ##"
   ]
  },
  {
   "cell_type": "code",
   "execution_count": null,
   "metadata": {},
   "outputs": [],
   "source": []
  },
  {
   "cell_type": "markdown",
   "metadata": {},
   "source": [
    "**How much variation is there in typicality ratings between categories?**"
   ]
  },
  {
   "cell_type": "code",
   "execution_count": null,
   "metadata": {},
   "outputs": [],
   "source": [
    "## INSERT YOUR CODE HERE ##"
   ]
  },
  {
   "cell_type": "code",
   "execution_count": null,
   "metadata": {},
   "outputs": [],
   "source": []
  },
  {
   "cell_type": "markdown",
   "metadata": {},
   "source": [
    "**What are some examples of `lion` images that are rated as being highly typical? What about the least typical? Display them below** "
   ]
  },
  {
   "cell_type": "code",
   "execution_count": null,
   "metadata": {},
   "outputs": [],
   "source": [
    "## INSERT YOUR CODE HERE ##"
   ]
  },
  {
   "cell_type": "code",
   "execution_count": null,
   "metadata": {},
   "outputs": [],
   "source": []
  },
  {
   "cell_type": "markdown",
   "metadata": {},
   "source": [
    "**Try to construct a 4 row x 8 column \"image gallery\" that displays all of the `lion` images from the most typical ones in top left to the least typical on the bottom right, where each image appears with the average rating it earned above it. Do the results make sense to you? Try to write your visualization code so that you can easily substitute a different category label other than `lion`.**"
   ]
  },
  {
   "cell_type": "code",
   "execution_count": null,
   "metadata": {},
   "outputs": [],
   "source": [
    "## INSERT YOUR CODE HERE ##"
   ]
  },
  {
   "cell_type": "code",
   "execution_count": null,
   "metadata": {},
   "outputs": [],
   "source": []
  },
  {
   "cell_type": "code",
   "execution_count": null,
   "metadata": {},
   "outputs": [],
   "source": []
  },
  {
   "cell_type": "markdown",
   "metadata": {},
   "source": [
    "#### Now that you're a little bit more familiar with working with image data, how do you think you would evaluate the similarity between two different images? \n",
    "\n",
    "*INSERT YOUR OWN RESPONSE HERE*"
   ]
  }
 ],
 "metadata": {
  "kernelspec": {
   "display_name": "Python 3",
   "language": "python",
   "name": "python3"
  },
  "language_info": {
   "codemirror_mode": {
    "name": "ipython",
    "version": 3
   },
   "file_extension": ".py",
   "mimetype": "text/x-python",
   "name": "python",
   "nbconvert_exporter": "python",
   "pygments_lexer": "ipython3",
   "version": "3.8.3"
  }
 },
 "nbformat": 4,
 "nbformat_minor": 4
}
