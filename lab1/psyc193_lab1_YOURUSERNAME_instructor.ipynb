{
 "cells": [
  {
   "cell_type": "markdown",
   "metadata": {},
   "source": [
    "# PSYC 193: Perception and Computation \n",
    "## Lab 1: Working with image data and analyzing typicality ratings"
   ]
  },
  {
   "cell_type": "markdown",
   "metadata": {},
   "source": [
    "In this lab, we will be working with an image dataset used in a recent computer vision paper by [Sangkloy et al.](https://dl.acm.org/doi/abs/10.1145/2897824.2925954). \n",
    "\n",
    "**Learning objectives**\n",
    "* Learn the basics of working with image data\n",
    "* Analyze human typicality rating data \n",
    "\n",
    "**Submission instructions**\n",
    "1. Please rename the notebook by replacing `YOURUSERNAME` in the filename with your actual UCSD AD username. \n",
    "2. Before submitting your assignment, sure that your notebook can run from \"top to bottom,\" executing the code in every code cell without returning fatal errors. An easy way to verify this is to click \"Kernel\" above in the tool bar, and try selecting \"Restart & Run All.\"\n",
    "3. Once you have verified that your notebook can run \"top to bottom\" without issues, click \"File\" in the toolbar above, then \"Download as,\" then \"PDF via LaTeX\" to download a PDF version of your notebook. \n",
    "4. Upload this PDF version of your notebook to Canvas before 5pm the next class period. "
   ]
  },
  {
   "cell_type": "markdown",
   "metadata": {},
   "source": [
    "#### Getting started with jupyter notebooks\n",
    "If you are relatively new to writing Python code in jupyter notebooks, it's recommended that you check out the User Interface tour. Click Help in the toolbar. "
   ]
  },
  {
   "cell_type": "markdown",
   "metadata": {},
   "source": [
    "### setup"
   ]
  },
  {
   "cell_type": "code",
   "execution_count": 58,
   "metadata": {},
   "outputs": [],
   "source": [
    "## load generally useful python modules\n",
    "import os\n",
    "import numpy as np\n",
    "import pandas as pd\n",
    "from PIL import Image\n",
    "import requests\n",
    "from io import BytesIO\n",
    "import seaborn as sns\n",
    "\n",
    "import matplotlib.pyplot as plt\n",
    "%matplotlib inline"
   ]
  },
  {
   "cell_type": "markdown",
   "metadata": {},
   "source": [
    "### load in datasets"
   ]
  },
  {
   "cell_type": "code",
   "execution_count": 28,
   "metadata": {},
   "outputs": [],
   "source": [
    "## import image metadata (from Sangkloy et al. (2016))\n",
    "from photodraw32_metadata import metadata\n",
    "M = pd.DataFrame(metadata)"
   ]
  },
  {
   "cell_type": "code",
   "execution_count": 29,
   "metadata": {},
   "outputs": [
    {
     "data": {
      "text/html": [
       "<div>\n",
       "<style scoped>\n",
       "    .dataframe tbody tr th:only-of-type {\n",
       "        vertical-align: middle;\n",
       "    }\n",
       "\n",
       "    .dataframe tbody tr th {\n",
       "        vertical-align: top;\n",
       "    }\n",
       "\n",
       "    .dataframe thead th {\n",
       "        text-align: right;\n",
       "    }\n",
       "</style>\n",
       "<table border=\"1\" class=\"dataframe\">\n",
       "  <thead>\n",
       "    <tr style=\"text-align: right;\">\n",
       "      <th></th>\n",
       "      <th>category</th>\n",
       "      <th>index</th>\n",
       "      <th>sketchy_preprocessing_mode</th>\n",
       "      <th>sketchy_filepath</th>\n",
       "      <th>sketchy_filename</th>\n",
       "      <th>photodraw32_filename</th>\n",
       "      <th>s3_filename</th>\n",
       "      <th>s3_url</th>\n",
       "      <th>batch_num</th>\n",
       "    </tr>\n",
       "  </thead>\n",
       "  <tbody>\n",
       "    <tr>\n",
       "      <th>0</th>\n",
       "      <td>airplane</td>\n",
       "      <td>00</td>\n",
       "      <td>tx_000100000000</td>\n",
       "      <td>photodraw32_stims\\airplane\\n02691156_359.png</td>\n",
       "      <td>n02691156_359.png</td>\n",
       "      <td>airplane_00</td>\n",
       "      <td>n02691156_359_airplane_00.png</td>\n",
       "      <td>https://photodraw32.s3.amazonaws.com/n02691156...</td>\n",
       "      <td>5</td>\n",
       "    </tr>\n",
       "    <tr>\n",
       "      <th>1</th>\n",
       "      <td>airplane</td>\n",
       "      <td>01</td>\n",
       "      <td>tx_000100000000</td>\n",
       "      <td>photodraw32_stims\\airplane\\n02691156_507.png</td>\n",
       "      <td>n02691156_507.png</td>\n",
       "      <td>airplane_01</td>\n",
       "      <td>n02691156_507_airplane_01.png</td>\n",
       "      <td>https://photodraw32.s3.amazonaws.com/n02691156...</td>\n",
       "      <td>4</td>\n",
       "    </tr>\n",
       "    <tr>\n",
       "      <th>2</th>\n",
       "      <td>airplane</td>\n",
       "      <td>02</td>\n",
       "      <td>tx_000100000000</td>\n",
       "      <td>photodraw32_stims\\airplane\\n02691156_573.png</td>\n",
       "      <td>n02691156_573.png</td>\n",
       "      <td>airplane_02</td>\n",
       "      <td>n02691156_573_airplane_02.png</td>\n",
       "      <td>https://photodraw32.s3.amazonaws.com/n02691156...</td>\n",
       "      <td>0</td>\n",
       "    </tr>\n",
       "    <tr>\n",
       "      <th>3</th>\n",
       "      <td>airplane</td>\n",
       "      <td>03</td>\n",
       "      <td>tx_000100000000</td>\n",
       "      <td>photodraw32_stims\\airplane\\n02691156_987.png</td>\n",
       "      <td>n02691156_987.png</td>\n",
       "      <td>airplane_03</td>\n",
       "      <td>n02691156_987_airplane_03.png</td>\n",
       "      <td>https://photodraw32.s3.amazonaws.com/n02691156...</td>\n",
       "      <td>3</td>\n",
       "    </tr>\n",
       "    <tr>\n",
       "      <th>4</th>\n",
       "      <td>airplane</td>\n",
       "      <td>04</td>\n",
       "      <td>tx_000100000000</td>\n",
       "      <td>photodraw32_stims\\airplane\\n02691156_1692.png</td>\n",
       "      <td>n02691156_1692.png</td>\n",
       "      <td>airplane_04</td>\n",
       "      <td>n02691156_1692_airplane_04.png</td>\n",
       "      <td>https://photodraw32.s3.amazonaws.com/n02691156...</td>\n",
       "      <td>0</td>\n",
       "    </tr>\n",
       "  </tbody>\n",
       "</table>\n",
       "</div>"
      ],
      "text/plain": [
       "   category index sketchy_preprocessing_mode  \\\n",
       "0  airplane    00            tx_000100000000   \n",
       "1  airplane    01            tx_000100000000   \n",
       "2  airplane    02            tx_000100000000   \n",
       "3  airplane    03            tx_000100000000   \n",
       "4  airplane    04            tx_000100000000   \n",
       "\n",
       "                                sketchy_filepath    sketchy_filename  \\\n",
       "0   photodraw32_stims\\airplane\\n02691156_359.png   n02691156_359.png   \n",
       "1   photodraw32_stims\\airplane\\n02691156_507.png   n02691156_507.png   \n",
       "2   photodraw32_stims\\airplane\\n02691156_573.png   n02691156_573.png   \n",
       "3   photodraw32_stims\\airplane\\n02691156_987.png   n02691156_987.png   \n",
       "4  photodraw32_stims\\airplane\\n02691156_1692.png  n02691156_1692.png   \n",
       "\n",
       "  photodraw32_filename                     s3_filename  \\\n",
       "0          airplane_00   n02691156_359_airplane_00.png   \n",
       "1          airplane_01   n02691156_507_airplane_01.png   \n",
       "2          airplane_02   n02691156_573_airplane_02.png   \n",
       "3          airplane_03   n02691156_987_airplane_03.png   \n",
       "4          airplane_04  n02691156_1692_airplane_04.png   \n",
       "\n",
       "                                              s3_url batch_num  \n",
       "0  https://photodraw32.s3.amazonaws.com/n02691156...         5  \n",
       "1  https://photodraw32.s3.amazonaws.com/n02691156...         4  \n",
       "2  https://photodraw32.s3.amazonaws.com/n02691156...         0  \n",
       "3  https://photodraw32.s3.amazonaws.com/n02691156...         3  \n",
       "4  https://photodraw32.s3.amazonaws.com/n02691156...         0  "
      ]
     },
     "execution_count": 29,
     "metadata": {},
     "output_type": "execute_result"
    }
   ],
   "source": [
    "## inspect what image metadata looks like using the pandas `head` function:\n",
    "## see: https://pandas.pydata.org/pandas-docs/stable/reference/api/pandas.DataFrame.head.html\n",
    "M.head()\n",
    "\n",
    "### INSERT YOUR CODE HERE ####"
   ]
  },
  {
   "cell_type": "markdown",
   "metadata": {},
   "source": [
    "**What do you think each row of this dataframe represents?**\n",
    "\n",
    "*INSERT YOUR OWN RESPONSE HERE*"
   ]
  },
  {
   "cell_type": "markdown",
   "metadata": {},
   "source": [
    "### explore dataset"
   ]
  },
  {
   "cell_type": "markdown",
   "metadata": {},
   "source": [
    "**How many different images are there in this dataframe?**\n",
    "\n",
    "*INSERT YOUR OWN RESPONSE HERE*\n",
    "\n",
    "hint: try using the `shape` function"
   ]
  },
  {
   "cell_type": "code",
   "execution_count": 39,
   "metadata": {},
   "outputs": [
    {
     "data": {
      "text/plain": [
       "(1024, 9)"
      ]
     },
     "execution_count": 39,
     "metadata": {},
     "output_type": "execute_result"
    }
   ],
   "source": [
    "### INSERT YOUR CODE HERE ####\n",
    "M.shape"
   ]
  },
  {
   "cell_type": "markdown",
   "metadata": {},
   "source": [
    "**How many different object categories are represented in the image dataset? (i.e., M dataframe)**\n",
    "\n",
    "*INSERT YOUR OWN RESPONSE HERE*\n",
    "\n",
    "hint: try using the `nunique` function"
   ]
  },
  {
   "cell_type": "code",
   "execution_count": 38,
   "metadata": {},
   "outputs": [
    {
     "data": {
      "text/plain": [
       "32"
      ]
     },
     "execution_count": 38,
     "metadata": {},
     "output_type": "execute_result"
    }
   ],
   "source": [
    "### INSERT YOUR CODE HERE ####\n",
    "M.category.nunique()"
   ]
  },
  {
   "cell_type": "markdown",
   "metadata": {},
   "source": [
    "**How many different images per category are in this dataset?**\n",
    "\n",
    "*INSERT YOUR OWN RESPONSE HERE*\n",
    "\n",
    "hint: try using `groupby` and `count` or `value_counts`"
   ]
  },
  {
   "cell_type": "code",
   "execution_count": 37,
   "metadata": {},
   "outputs": [
    {
     "data": {
      "text/plain": [
       "raccoon           32\n",
       "saw               32\n",
       "jack-o-lantern    32\n",
       "ray               32\n",
       "hat               32\n",
       "window            32\n",
       "car_(sedan)       32\n",
       "jellyfish         32\n",
       "hotdog            32\n",
       "snake             32\n",
       "cup               32\n",
       "piano             32\n",
       "windmill          32\n",
       "ape               32\n",
       "fish              32\n",
       "flower            32\n",
       "motorcycle        32\n",
       "butterfly         32\n",
       "cat               32\n",
       "bread             32\n",
       "tree              32\n",
       "lion              32\n",
       "kangaroo          32\n",
       "scorpion          32\n",
       "skyscraper        32\n",
       "mushroom          32\n",
       "squirrel          32\n",
       "castle            32\n",
       "elephant          32\n",
       "airplane          32\n",
       "blimp             32\n",
       "axe               32\n",
       "Name: category, dtype: int64"
      ]
     },
     "execution_count": 37,
     "metadata": {},
     "output_type": "execute_result"
    }
   ],
   "source": [
    "### INSERT YOUR CODE HERE ####\n",
    "M['category'].value_counts()"
   ]
  },
  {
   "cell_type": "markdown",
   "metadata": {},
   "source": [
    "### load and display a single image"
   ]
  },
  {
   "cell_type": "markdown",
   "metadata": {},
   "source": [
    "**Here is sample code to display one of the \"airplane\" images in the dataset**"
   ]
  },
  {
   "cell_type": "code",
   "execution_count": 59,
   "metadata": {},
   "outputs": [
    {
     "name": "stdout",
     "output_type": "stream",
     "text": [
      "Example Image URL: https://photodraw32.s3.amazonaws.com/n02691156_359_airplane_00.png\n"
     ]
    },
    {
     "data": {
      "image/png": "[encoded data removed]",
      "text/plain": [
       "<PIL.PngImagePlugin.PngImageFile image mode=RGB size=256x256 at 0x7FBECA649A90>"
      ]
     },
     "execution_count": 59,
     "metadata": {},
     "output_type": "execute_result"
    }
   ],
   "source": [
    "url = M['s3_url'].values[0] \n",
    "print('Example Image URL: {}'.format(url))\n",
    "response = requests.get(url)\n",
    "img = Image.open(BytesIO(response.content))\n",
    "img"
   ]
  },
  {
   "cell_type": "markdown",
   "metadata": {},
   "source": [
    "**Now display any one of the \"lion\" images in the dataset**"
   ]
  },
  {
   "cell_type": "code",
   "execution_count": null,
   "metadata": {},
   "outputs": [],
   "source": [
    "## INSERT YOUR CODE HERE ##"
   ]
  },
  {
   "cell_type": "code",
   "execution_count": null,
   "metadata": {},
   "outputs": [],
   "source": []
  },
  {
   "cell_type": "markdown",
   "metadata": {},
   "source": [
    "### Practice with image processing"
   ]
  },
  {
   "cell_type": "markdown",
   "metadata": {},
   "source": [
    "**What are the dimensions of the example airplane image from above (i.e., width x height x num_channels)?**\n",
    "\n",
    "hint: Try looking up how to get sizes of images using the Python Imaging Library (PIL)"
   ]
  },
  {
   "cell_type": "code",
   "execution_count": 66,
   "metadata": {},
   "outputs": [],
   "source": [
    "## INSERT YOUR CODE HERE ##"
   ]
  },
  {
   "cell_type": "code",
   "execution_count": 67,
   "metadata": {},
   "outputs": [
    {
     "data": {
      "text/plain": [
       "(256, 256)"
      ]
     },
     "execution_count": 67,
     "metadata": {},
     "output_type": "execute_result"
    }
   ],
   "source": [
    "img.size"
   ]
  },
  {
   "cell_type": "markdown",
   "metadata": {},
   "source": [
    "**Convert image data to a NumPy array. What are its dimensions?**\n",
    "\n",
    "*INSERT YOUR OWN RESPONSE HERE*"
   ]
  },
  {
   "cell_type": "code",
   "execution_count": 68,
   "metadata": {},
   "outputs": [],
   "source": [
    "## INSERT YOUR CODE HERE ##"
   ]
  },
  {
   "cell_type": "code",
   "execution_count": 69,
   "metadata": {},
   "outputs": [
    {
     "data": {
      "text/plain": [
       "(256, 256, 3)"
      ]
     },
     "execution_count": 69,
     "metadata": {},
     "output_type": "execute_result"
    }
   ],
   "source": [
    "np.array(img).shape"
   ]
  },
  {
   "cell_type": "markdown",
   "metadata": {},
   "source": [
    "**Inspect the values in the array. What do these values represent? What is the largest value, and what is the smallest value in the image array?**\n",
    "\n",
    "Is the range of values what you expected? Check out [this page on 8-bit color graphics](https://en.wikipedia.org/wiki/8-bit_color) to learn more about this way of storing information about images. "
   ]
  },
  {
   "cell_type": "code",
   "execution_count": 71,
   "metadata": {},
   "outputs": [
    {
     "name": "stdout",
     "output_type": "stream",
     "text": [
      "255\n",
      "0\n"
     ]
    }
   ],
   "source": [
    "## INSERT YOUR CODE HERE ##"
   ]
  },
  {
   "cell_type": "code",
   "execution_count": null,
   "metadata": {},
   "outputs": [],
   "source": [
    "array_img = np.array(img)\n",
    "print(np.max(array_img))\n",
    "print(np.min(array_img))"
   ]
  },
  {
   "cell_type": "markdown",
   "metadata": {},
   "source": [
    "**Crop the middle 100x100 pixels from the image and display it.**\n",
    "\n",
    "hint: Try using the `crop` function from PIL. Use the information you extracted earlier about the width and height of the image to determine where the middle 100x100 pixels are."
   ]
  },
  {
   "cell_type": "code",
   "execution_count": null,
   "metadata": {},
   "outputs": [],
   "source": [
    "## INSERT YOUR CODE HERE ##"
   ]
  },
  {
   "cell_type": "code",
   "execution_count": 73,
   "metadata": {},
   "outputs": [],
   "source": [
    "left = 256/2 - 50\n",
    "right = 256/2 + 50\n",
    "top = 256/2 - 50\n",
    "bottom = 256/2 + 50\n",
    "img1 = img.crop((left, top, right, bottom)) \n",
    "img1"
   ]
  },
  {
   "cell_type": "code",
   "execution_count": null,
   "metadata": {},
   "outputs": [],
   "source": []
  },
  {
   "cell_type": "markdown",
   "metadata": {},
   "source": [
    "### analyze distribution of ratings "
   ]
  },
  {
   "cell_type": "code",
   "execution_count": 56,
   "metadata": {},
   "outputs": [],
   "source": [
    "## import image typicality ratings (from an unpublished dataset)\n",
    "T = pd.read_csv('photodraw32_ratings.csv')"
   ]
  },
  {
   "cell_type": "code",
   "execution_count": 57,
   "metadata": {},
   "outputs": [
    {
     "data": {
      "text/html": [
       "<div>\n",
       "<style scoped>\n",
       "    .dataframe tbody tr th:only-of-type {\n",
       "        vertical-align: middle;\n",
       "    }\n",
       "\n",
       "    .dataframe tbody tr th {\n",
       "        vertical-align: top;\n",
       "    }\n",
       "\n",
       "    .dataframe thead th {\n",
       "        text-align: right;\n",
       "    }\n",
       "</style>\n",
       "<table border=\"1\" class=\"dataframe\">\n",
       "  <thead>\n",
       "    <tr style=\"text-align: right;\">\n",
       "      <th></th>\n",
       "      <th>prolificID</th>\n",
       "      <th>img_id</th>\n",
       "      <th>category</th>\n",
       "      <th>trialNum</th>\n",
       "      <th>ratings</th>\n",
       "      <th>enumerated_ratings</th>\n",
       "    </tr>\n",
       "  </thead>\n",
       "  <tbody>\n",
       "    <tr>\n",
       "      <th>0</th>\n",
       "      <td>5d87df4202971700016068c8</td>\n",
       "      <td>https://photodraw32.s3.amazonaws.com/n01447331...</td>\n",
       "      <td>fish</td>\n",
       "      <td>9</td>\n",
       "      <td>Very</td>\n",
       "      <td>1</td>\n",
       "    </tr>\n",
       "    <tr>\n",
       "      <th>1</th>\n",
       "      <td>5865dd647fbbcd00013973b8</td>\n",
       "      <td>https://photodraw32.s3.amazonaws.com/n01447331...</td>\n",
       "      <td>fish</td>\n",
       "      <td>53</td>\n",
       "      <td>Very</td>\n",
       "      <td>1</td>\n",
       "    </tr>\n",
       "    <tr>\n",
       "      <th>2</th>\n",
       "      <td>5e793ab51aff8103623757be</td>\n",
       "      <td>https://photodraw32.s3.amazonaws.com/n01447331...</td>\n",
       "      <td>fish</td>\n",
       "      <td>102</td>\n",
       "      <td>Very</td>\n",
       "      <td>1</td>\n",
       "    </tr>\n",
       "    <tr>\n",
       "      <th>3</th>\n",
       "      <td>5ec7bb4467b0da23311bd127</td>\n",
       "      <td>https://photodraw32.s3.amazonaws.com/n01447331...</td>\n",
       "      <td>fish</td>\n",
       "      <td>126</td>\n",
       "      <td>Moderately</td>\n",
       "      <td>0</td>\n",
       "    </tr>\n",
       "    <tr>\n",
       "      <th>4</th>\n",
       "      <td>5e8bce371e16e90ba6df085d</td>\n",
       "      <td>https://photodraw32.s3.amazonaws.com/n01447331...</td>\n",
       "      <td>fish</td>\n",
       "      <td>49</td>\n",
       "      <td>Very</td>\n",
       "      <td>1</td>\n",
       "    </tr>\n",
       "  </tbody>\n",
       "</table>\n",
       "</div>"
      ],
      "text/plain": [
       "                 prolificID  \\\n",
       "0  5d87df4202971700016068c8   \n",
       "1  5865dd647fbbcd00013973b8   \n",
       "2  5e793ab51aff8103623757be   \n",
       "3  5ec7bb4467b0da23311bd127   \n",
       "4  5e8bce371e16e90ba6df085d   \n",
       "\n",
       "                                              img_id category  trialNum  \\\n",
       "0  https://photodraw32.s3.amazonaws.com/n01447331...     fish         9   \n",
       "1  https://photodraw32.s3.amazonaws.com/n01447331...     fish        53   \n",
       "2  https://photodraw32.s3.amazonaws.com/n01447331...     fish       102   \n",
       "3  https://photodraw32.s3.amazonaws.com/n01447331...     fish       126   \n",
       "4  https://photodraw32.s3.amazonaws.com/n01447331...     fish        49   \n",
       "\n",
       "      ratings  enumerated_ratings  \n",
       "0        Very                   1  \n",
       "1        Very                   1  \n",
       "2        Very                   1  \n",
       "3  Moderately                   0  \n",
       "4        Very                   1  "
      ]
     },
     "execution_count": 57,
     "metadata": {},
     "output_type": "execute_result"
    }
   ],
   "source": [
    "## inspect the dataframe\n",
    "T.head()"
   ]
  },
  {
   "cell_type": "markdown",
   "metadata": {},
   "source": [
    "#### Here is what the columns mean\n",
    "* prolificID: anonymized participant identifier\n",
    "* img_id: URL of image shown to participant\n",
    "* category: category this image belongs to\n",
    "* ratings: rating given by participants on 5-point scale from \"Not typical at all\" to \"Extremely\" typical\n",
    "* enumerated_ratings: ratings converted to numeric scale ranging between -2 and +2"
   ]
  },
  {
   "cell_type": "markdown",
   "metadata": {},
   "source": [
    "**How many ratings do we have per image?**"
   ]
  },
  {
   "cell_type": "code",
   "execution_count": null,
   "metadata": {},
   "outputs": [],
   "source": [
    "## INSERT YOUR CODE HERE ##"
   ]
  },
  {
   "cell_type": "code",
   "execution_count": null,
   "metadata": {},
   "outputs": [],
   "source": []
  },
  {
   "cell_type": "markdown",
   "metadata": {},
   "source": [
    "**What does the distribution of ratings look like overall, across all images and categories?**\n",
    "\n",
    "hint: for a basic histogram, try using matplotlib `plt.hist()`. For another option, try using plotting functions from [seaborn](https://seaborn.pydata.org/tutorial/distributions.html)."
   ]
  },
  {
   "cell_type": "code",
   "execution_count": null,
   "metadata": {},
   "outputs": [],
   "source": [
    "## INSERT YOUR CODE HERE ##"
   ]
  },
  {
   "cell_type": "code",
   "execution_count": null,
   "metadata": {},
   "outputs": [],
   "source": []
  },
  {
   "cell_type": "markdown",
   "metadata": {},
   "source": [
    "**What does the distribution of average ratings look like for images within each category?**\n",
    "\n",
    "hint: try using `FacetGrid` from [seaborn](https://seaborn.pydata.org/generated/seaborn.FacetGrid.html)."
   ]
  },
  {
   "cell_type": "code",
   "execution_count": null,
   "metadata": {},
   "outputs": [],
   "source": [
    "## INSERT YOUR CODE HERE ##"
   ]
  },
  {
   "cell_type": "code",
   "execution_count": null,
   "metadata": {},
   "outputs": [],
   "source": []
  },
  {
   "cell_type": "markdown",
   "metadata": {},
   "source": [
    "**How well do participants agree with one another on what rating to give to an image? Or, relatedly, how variable are the ratings given by different participants to the same image?**\n",
    "\n",
    "hint: There isn't a single way to get at this question. Try to think about some metrics that might be useful, taking into account how often participants agree, and/or how large differences in ratings given between different participants are. "
   ]
  },
  {
   "cell_type": "code",
   "execution_count": null,
   "metadata": {},
   "outputs": [],
   "source": []
  },
  {
   "cell_type": "markdown",
   "metadata": {},
   "source": [
    "**How much variation is there in typicality ratings between images within each category?**\n",
    "\n",
    "hint: What are some metrics you know about to quantify variation?"
   ]
  },
  {
   "cell_type": "code",
   "execution_count": null,
   "metadata": {},
   "outputs": [],
   "source": []
  },
  {
   "cell_type": "markdown",
   "metadata": {},
   "source": [
    "**How much variation is there in typicality ratings between categories?**"
   ]
  },
  {
   "cell_type": "code",
   "execution_count": null,
   "metadata": {},
   "outputs": [],
   "source": []
  },
  {
   "cell_type": "markdown",
   "metadata": {},
   "source": [
    "**What are some examples of `lion` images that are rated as being highly typical? What about the least typical?** "
   ]
  },
  {
   "cell_type": "code",
   "execution_count": null,
   "metadata": {},
   "outputs": [],
   "source": []
  },
  {
   "cell_type": "markdown",
   "metadata": {},
   "source": [
    "**Try to construct a 4 row x 8 column \"image gallery\" that displays all of the `lion` images from the most typical ones in top left to the least typical on the bottom right, where each image appears with the average rating it earned above it. Do the results make sense to you? Try to write your visualization code so that you can easily substitute a different category label other than `lion`.**"
   ]
  },
  {
   "cell_type": "code",
   "execution_count": null,
   "metadata": {},
   "outputs": [],
   "source": []
  },
  {
   "cell_type": "code",
   "execution_count": null,
   "metadata": {},
   "outputs": [],
   "source": []
  }
 ],
 "metadata": {
  "kernelspec": {
   "display_name": "Python 3",
   "language": "python",
   "name": "python3"
  },
  "language_info": {
   "codemirror_mode": {
    "name": "ipython",
    "version": 3
   },
   "file_extension": ".py",
   "mimetype": "text/x-python",
   "name": "python",
   "nbconvert_exporter": "python",
   "pygments_lexer": "ipython3",
   "version": "3.8.3"
  }
 },
 "nbformat": 4,
 "nbformat_minor": 4
}
